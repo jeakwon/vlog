{
 "cells": [
  {
   "cell_type": "code",
   "execution_count": 1,
   "metadata": {},
   "outputs": [
    {
     "data": {
      "text/html": [
       "<script>requirejs.config({paths: { 'plotly': ['https://cdn.plot.ly/plotly-latest.min']},});if(!window.Plotly) {{require(['plotly'],function(plotly) {window.Plotly=plotly;});}}</script>"
      ],
      "text/vnd.plotly.v1+html": [
       "<script>requirejs.config({paths: { 'plotly': ['https://cdn.plot.ly/plotly-latest.min']},});if(!window.Plotly) {{require(['plotly'],function(plotly) {window.Plotly=plotly;});}}</script>"
      ]
     },
     "metadata": {},
     "output_type": "display_data"
    }
   ],
   "source": [
    "import plotly.offline as py\n",
    "import plotly.graph_objs as go\n",
    "py.init_notebook_mode(connected=True)"
   ]
  },
  {
   "cell_type": "code",
   "execution_count": 9,
   "metadata": {},
   "outputs": [
    {
     "data": {
      "application/vnd.plotly.v1+json": {
       "data": [
        {
         "mode": "markers",
         "name": "markers",
         "type": "scatter",
         "uid": "d1f58d78-a897-11e8-8b79-eccaaad7dc3c",
         "x": [
          1,
          2,
          3
         ],
         "y": [
          1,
          2,
          3
         ]
        },
        {
         "mode": "lines",
         "name": "lines",
         "type": "scatter",
         "uid": "d1f58d79-a897-11e8-9123-eccaaad7dc3c",
         "x": [
          1,
          2,
          3
         ],
         "y": [
          1,
          2,
          3
         ]
        }
       ],
       "layout": {
        "title": "y=x",
        "xaxis": {
         "title": "x"
        },
        "yaxis": {
         "title": "y"
        }
       }
      },
      "text/html": [
       "<div id=\"2d4b4659-82a6-4092-8ba2-9452ddf2e3c6\" style=\"height: 525px; width: 100%;\" class=\"plotly-graph-div\"></div><script type=\"text/javascript\">require([\"plotly\"], function(Plotly) { window.PLOTLYENV=window.PLOTLYENV || {};window.PLOTLYENV.BASE_URL=\"https://plot.ly\";\n",
       "        Plotly.plot(\n",
       "            '2d4b4659-82a6-4092-8ba2-9452ddf2e3c6',\n",
       "            [{\"mode\": \"markers\", \"name\": \"markers\", \"x\": [1, 2, 3], \"y\": [1, 2, 3], \"type\": \"scatter\", \"uid\": \"d1f58d78-a897-11e8-8b79-eccaaad7dc3c\"}, {\"mode\": \"lines\", \"name\": \"lines\", \"x\": [1, 2, 3], \"y\": [1, 2, 3], \"type\": \"scatter\", \"uid\": \"d1f58d79-a897-11e8-9123-eccaaad7dc3c\"}],\n",
       "            {\"title\": \"y=x\", \"xaxis\": {\"title\": \"x\"}, \"yaxis\": {\"title\": \"y\"}},\n",
       "            {\"showLink\": true, \"linkText\": \"Export to plot.ly\"}\n",
       "        ).then(function () {return Plotly.addFrames('2d4b4659-82a6-4092-8ba2-9452ddf2e3c6',{});}).then(function(){Plotly.animate('2d4b4659-82a6-4092-8ba2-9452ddf2e3c6');})\n",
       "        });</script>"
      ],
      "text/vnd.plotly.v1+html": [
       "<div id=\"2d4b4659-82a6-4092-8ba2-9452ddf2e3c6\" style=\"height: 525px; width: 100%;\" class=\"plotly-graph-div\"></div><script type=\"text/javascript\">require([\"plotly\"], function(Plotly) { window.PLOTLYENV=window.PLOTLYENV || {};window.PLOTLYENV.BASE_URL=\"https://plot.ly\";\n",
       "        Plotly.plot(\n",
       "            '2d4b4659-82a6-4092-8ba2-9452ddf2e3c6',\n",
       "            [{\"mode\": \"markers\", \"name\": \"markers\", \"x\": [1, 2, 3], \"y\": [1, 2, 3], \"type\": \"scatter\", \"uid\": \"d1f58d78-a897-11e8-8b79-eccaaad7dc3c\"}, {\"mode\": \"lines\", \"name\": \"lines\", \"x\": [1, 2, 3], \"y\": [1, 2, 3], \"type\": \"scatter\", \"uid\": \"d1f58d79-a897-11e8-9123-eccaaad7dc3c\"}],\n",
       "            {\"title\": \"y=x\", \"xaxis\": {\"title\": \"x\"}, \"yaxis\": {\"title\": \"y\"}},\n",
       "            {\"showLink\": true, \"linkText\": \"Export to plot.ly\"}\n",
       "        ).then(function () {return Plotly.addFrames('2d4b4659-82a6-4092-8ba2-9452ddf2e3c6',{});}).then(function(){Plotly.animate('2d4b4659-82a6-4092-8ba2-9452ddf2e3c6');})\n",
       "        });</script>"
      ]
     },
     "metadata": {},
     "output_type": "display_data"
    }
   ],
   "source": [
    "datax = [1,2,3,]\n",
    "datay = [1,2,3,]\n",
    "\n",
    "scatter1 = go.Scatter(x = datax, y= datay, mode = 'markers',name = 'markers') # marker\n",
    "scatter2 = go.Scatter(x = datax, y= datay, mode = 'lines', name = 'lines') # line\n",
    "data = [scatter1,scatter2]\n",
    "layout = go.Layout(title = 'y=x',\n",
    "                  xaxis = dict(title='x'),\n",
    "                  yaxis = dict(title='y'))\n",
    "figure = go.Figure(data=data, layout=layout)\n",
    "py.iplot(figure)"
   ]
  },
  {
   "cell_type": "code",
   "execution_count": null,
   "metadata": {},
   "outputs": [],
   "source": []
  }
 ],
 "metadata": {
  "kernelspec": {
   "display_name": "Python 3",
   "language": "python",
   "name": "python3"
  },
  "language_info": {
   "codemirror_mode": {
    "name": "ipython",
    "version": 3
   },
   "file_extension": ".py",
   "mimetype": "text/x-python",
   "name": "python",
   "nbconvert_exporter": "python",
   "pygments_lexer": "ipython3",
   "version": "3.6.4"
  }
 },
 "nbformat": 4,
 "nbformat_minor": 2
}
